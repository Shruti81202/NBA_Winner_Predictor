{
  "nbformat": 4,
  "nbformat_minor": 0,
  "metadata": {
    "colab": {
      "provenance": []
    },
    "kernelspec": {
      "name": "python3",
      "display_name": "Python 3"
    },
    "language_info": {
      "name": "python"
    }
  },
  "cells": [
    {
      "cell_type": "markdown",
      "source": [
        "# **NBA Winner Predictor**"
      ],
      "metadata": {
        "id": "Y4w8I53CD-cr"
      }
    },
    {
      "cell_type": "markdown",
      "source": [
        "Importing the necessary libraries and dataset."
      ],
      "metadata": {
        "id": "5Q1gzA3PEkP5"
      }
    },
    {
      "cell_type": "markdown",
      "source": [
        "Data Collection"
      ],
      "metadata": {
        "id": "3kK4q0BsGOTk"
      }
    },
    {
      "cell_type": "code",
      "execution_count": null,
      "metadata": {
        "colab": {
          "base_uri": "https://localhost:8080/",
          "height": 73
        },
        "id": "uhQTxJcVnj7f",
        "outputId": "308f5155-3db0-40ea-82f4-0d6027c6aa09"
      },
      "outputs": [
        {
          "output_type": "display_data",
          "data": {
            "text/plain": [
              "<IPython.core.display.HTML object>"
            ],
            "text/html": [
              "\n",
              "     <input type=\"file\" id=\"files-574ede76-04fe-4836-a026-081a8e7e59c8\" name=\"files[]\" multiple disabled\n",
              "        style=\"border:none\" />\n",
              "     <output id=\"result-574ede76-04fe-4836-a026-081a8e7e59c8\">\n",
              "      Upload widget is only available when the cell has been executed in the\n",
              "      current browser session. Please rerun this cell to enable.\n",
              "      </output>\n",
              "      <script>// Copyright 2017 Google LLC\n",
              "//\n",
              "// Licensed under the Apache License, Version 2.0 (the \"License\");\n",
              "// you may not use this file except in compliance with the License.\n",
              "// You may obtain a copy of the License at\n",
              "//\n",
              "//      http://www.apache.org/licenses/LICENSE-2.0\n",
              "//\n",
              "// Unless required by applicable law or agreed to in writing, software\n",
              "// distributed under the License is distributed on an \"AS IS\" BASIS,\n",
              "// WITHOUT WARRANTIES OR CONDITIONS OF ANY KIND, either express or implied.\n",
              "// See the License for the specific language governing permissions and\n",
              "// limitations under the License.\n",
              "\n",
              "/**\n",
              " * @fileoverview Helpers for google.colab Python module.\n",
              " */\n",
              "(function(scope) {\n",
              "function span(text, styleAttributes = {}) {\n",
              "  const element = document.createElement('span');\n",
              "  element.textContent = text;\n",
              "  for (const key of Object.keys(styleAttributes)) {\n",
              "    element.style[key] = styleAttributes[key];\n",
              "  }\n",
              "  return element;\n",
              "}\n",
              "\n",
              "// Max number of bytes which will be uploaded at a time.\n",
              "const MAX_PAYLOAD_SIZE = 100 * 1024;\n",
              "\n",
              "function _uploadFiles(inputId, outputId) {\n",
              "  const steps = uploadFilesStep(inputId, outputId);\n",
              "  const outputElement = document.getElementById(outputId);\n",
              "  // Cache steps on the outputElement to make it available for the next call\n",
              "  // to uploadFilesContinue from Python.\n",
              "  outputElement.steps = steps;\n",
              "\n",
              "  return _uploadFilesContinue(outputId);\n",
              "}\n",
              "\n",
              "// This is roughly an async generator (not supported in the browser yet),\n",
              "// where there are multiple asynchronous steps and the Python side is going\n",
              "// to poll for completion of each step.\n",
              "// This uses a Promise to block the python side on completion of each step,\n",
              "// then passes the result of the previous step as the input to the next step.\n",
              "function _uploadFilesContinue(outputId) {\n",
              "  const outputElement = document.getElementById(outputId);\n",
              "  const steps = outputElement.steps;\n",
              "\n",
              "  const next = steps.next(outputElement.lastPromiseValue);\n",
              "  return Promise.resolve(next.value.promise).then((value) => {\n",
              "    // Cache the last promise value to make it available to the next\n",
              "    // step of the generator.\n",
              "    outputElement.lastPromiseValue = value;\n",
              "    return next.value.response;\n",
              "  });\n",
              "}\n",
              "\n",
              "/**\n",
              " * Generator function which is called between each async step of the upload\n",
              " * process.\n",
              " * @param {string} inputId Element ID of the input file picker element.\n",
              " * @param {string} outputId Element ID of the output display.\n",
              " * @return {!Iterable<!Object>} Iterable of next steps.\n",
              " */\n",
              "function* uploadFilesStep(inputId, outputId) {\n",
              "  const inputElement = document.getElementById(inputId);\n",
              "  inputElement.disabled = false;\n",
              "\n",
              "  const outputElement = document.getElementById(outputId);\n",
              "  outputElement.innerHTML = '';\n",
              "\n",
              "  const pickedPromise = new Promise((resolve) => {\n",
              "    inputElement.addEventListener('change', (e) => {\n",
              "      resolve(e.target.files);\n",
              "    });\n",
              "  });\n",
              "\n",
              "  const cancel = document.createElement('button');\n",
              "  inputElement.parentElement.appendChild(cancel);\n",
              "  cancel.textContent = 'Cancel upload';\n",
              "  const cancelPromise = new Promise((resolve) => {\n",
              "    cancel.onclick = () => {\n",
              "      resolve(null);\n",
              "    };\n",
              "  });\n",
              "\n",
              "  // Wait for the user to pick the files.\n",
              "  const files = yield {\n",
              "    promise: Promise.race([pickedPromise, cancelPromise]),\n",
              "    response: {\n",
              "      action: 'starting',\n",
              "    }\n",
              "  };\n",
              "\n",
              "  cancel.remove();\n",
              "\n",
              "  // Disable the input element since further picks are not allowed.\n",
              "  inputElement.disabled = true;\n",
              "\n",
              "  if (!files) {\n",
              "    return {\n",
              "      response: {\n",
              "        action: 'complete',\n",
              "      }\n",
              "    };\n",
              "  }\n",
              "\n",
              "  for (const file of files) {\n",
              "    const li = document.createElement('li');\n",
              "    li.append(span(file.name, {fontWeight: 'bold'}));\n",
              "    li.append(span(\n",
              "        `(${file.type || 'n/a'}) - ${file.size} bytes, ` +\n",
              "        `last modified: ${\n",
              "            file.lastModifiedDate ? file.lastModifiedDate.toLocaleDateString() :\n",
              "                                    'n/a'} - `));\n",
              "    const percent = span('0% done');\n",
              "    li.appendChild(percent);\n",
              "\n",
              "    outputElement.appendChild(li);\n",
              "\n",
              "    const fileDataPromise = new Promise((resolve) => {\n",
              "      const reader = new FileReader();\n",
              "      reader.onload = (e) => {\n",
              "        resolve(e.target.result);\n",
              "      };\n",
              "      reader.readAsArrayBuffer(file);\n",
              "    });\n",
              "    // Wait for the data to be ready.\n",
              "    let fileData = yield {\n",
              "      promise: fileDataPromise,\n",
              "      response: {\n",
              "        action: 'continue',\n",
              "      }\n",
              "    };\n",
              "\n",
              "    // Use a chunked sending to avoid message size limits. See b/62115660.\n",
              "    let position = 0;\n",
              "    do {\n",
              "      const length = Math.min(fileData.byteLength - position, MAX_PAYLOAD_SIZE);\n",
              "      const chunk = new Uint8Array(fileData, position, length);\n",
              "      position += length;\n",
              "\n",
              "      const base64 = btoa(String.fromCharCode.apply(null, chunk));\n",
              "      yield {\n",
              "        response: {\n",
              "          action: 'append',\n",
              "          file: file.name,\n",
              "          data: base64,\n",
              "        },\n",
              "      };\n",
              "\n",
              "      let percentDone = fileData.byteLength === 0 ?\n",
              "          100 :\n",
              "          Math.round((position / fileData.byteLength) * 100);\n",
              "      percent.textContent = `${percentDone}% done`;\n",
              "\n",
              "    } while (position < fileData.byteLength);\n",
              "  }\n",
              "\n",
              "  // All done.\n",
              "  yield {\n",
              "    response: {\n",
              "      action: 'complete',\n",
              "    }\n",
              "  };\n",
              "}\n",
              "\n",
              "scope.google = scope.google || {};\n",
              "scope.google.colab = scope.google.colab || {};\n",
              "scope.google.colab._files = {\n",
              "  _uploadFiles,\n",
              "  _uploadFilesContinue,\n",
              "};\n",
              "})(self);\n",
              "</script> "
            ]
          },
          "metadata": {}
        },
        {
          "output_type": "stream",
          "name": "stdout",
          "text": [
            "Saving nba_games.csv to nba_games.csv\n"
          ]
        }
      ],
      "source": [
        "import numpy as np\n",
        "import pandas as pd\n",
        "from google.colab import files\n",
        "import io\n",
        "data=files.upload()"
      ]
    },
    {
      "cell_type": "code",
      "source": [
        "df=pd.read_csv(io.StringIO(data['nba_games.csv'].decode('utf-8')))"
      ],
      "metadata": {
        "id": "Q21NADBHn5Sw"
      },
      "execution_count": null,
      "outputs": []
    },
    {
      "cell_type": "markdown",
      "source": [
        "Exploratory Data Analysis(EDA)"
      ],
      "metadata": {
        "id": "pa83PqZ-GF9i"
      }
    },
    {
      "cell_type": "markdown",
      "source": [
        "Data Cleaning - Keeping the necessary columns."
      ],
      "metadata": {
        "id": "3KIJWZILEreg"
      }
    },
    {
      "cell_type": "code",
      "source": [
        "import pandas as pd\n",
        "\n",
        "# Assume you have a DataFrame called 'df' containing the original dataset\n",
        "\n",
        "# Identify the relevant columns\n",
        "relevant_columns = ['pts',\t'team',\t'total',\t'home',\t'pts_opp',\n",
        "                    'team_opp',\t'total_opp',\t'home_opp','won']\n",
        "\n",
        "# Create a new dataset with relevant columns\n",
        "new_df = df[relevant_columns].copy()\n",
        "\n",
        "# Drop irrelevant columns from the new dataset (optional)\n",
        "# new_df.drop(['column4', 'column5'], axis=1, inplace=True)\n",
        "\n",
        "# Now 'new_df' contains only the relevant columns\n",
        "new_df"
      ],
      "metadata": {
        "colab": {
          "base_uri": "https://localhost:8080/",
          "height": 423
        },
        "id": "TAS24Grpn69x",
        "outputId": "0bd8a87e-2d0f-4621-deee-9edcc605be7f"
      },
      "execution_count": null,
      "outputs": [
        {
          "output_type": "execute_result",
          "data": {
            "text/plain": [
              "         pts team  total  home  pts_opp team_opp  total_opp  home_opp    won\n",
              "0       98.0  ATL     98     0     95.0      DAL         95         1   True\n",
              "1       95.0  DAL     95     1     98.0      ATL         98         0  False\n",
              "2       99.0  MIN     99     0    107.0      SAS        107         1  False\n",
              "3      107.0  SAS    107     1     99.0      MIN         99         0   True\n",
              "4       75.0  ORL     75     0     92.0      MEM         92         1  False\n",
              "...      ...  ...    ...   ...      ...      ...        ...       ...    ...\n",
              "17767  108.0  LAC    108     1     92.0      OKC         92         0   True\n",
              "17768  113.0  LAC    113     0    108.0      ORL        108         1   True\n",
              "17769  108.0  ORL    108     1    113.0      LAC        113         0  False\n",
              "17770  117.0  BOS    117     0    106.0      MIA        106         1   True\n",
              "17771  106.0  MIA    106     1    117.0      BOS        117         0  False\n",
              "\n",
              "[17772 rows x 9 columns]"
            ],
            "text/html": [
              "\n",
              "  <div id=\"df-f8de6a6a-d88a-4dd9-ae31-5ee3a535985d\">\n",
              "    <div class=\"colab-df-container\">\n",
              "      <div>\n",
              "<style scoped>\n",
              "    .dataframe tbody tr th:only-of-type {\n",
              "        vertical-align: middle;\n",
              "    }\n",
              "\n",
              "    .dataframe tbody tr th {\n",
              "        vertical-align: top;\n",
              "    }\n",
              "\n",
              "    .dataframe thead th {\n",
              "        text-align: right;\n",
              "    }\n",
              "</style>\n",
              "<table border=\"1\" class=\"dataframe\">\n",
              "  <thead>\n",
              "    <tr style=\"text-align: right;\">\n",
              "      <th></th>\n",
              "      <th>pts</th>\n",
              "      <th>team</th>\n",
              "      <th>total</th>\n",
              "      <th>home</th>\n",
              "      <th>pts_opp</th>\n",
              "      <th>team_opp</th>\n",
              "      <th>total_opp</th>\n",
              "      <th>home_opp</th>\n",
              "      <th>won</th>\n",
              "    </tr>\n",
              "  </thead>\n",
              "  <tbody>\n",
              "    <tr>\n",
              "      <th>0</th>\n",
              "      <td>98.0</td>\n",
              "      <td>ATL</td>\n",
              "      <td>98</td>\n",
              "      <td>0</td>\n",
              "      <td>95.0</td>\n",
              "      <td>DAL</td>\n",
              "      <td>95</td>\n",
              "      <td>1</td>\n",
              "      <td>True</td>\n",
              "    </tr>\n",
              "    <tr>\n",
              "      <th>1</th>\n",
              "      <td>95.0</td>\n",
              "      <td>DAL</td>\n",
              "      <td>95</td>\n",
              "      <td>1</td>\n",
              "      <td>98.0</td>\n",
              "      <td>ATL</td>\n",
              "      <td>98</td>\n",
              "      <td>0</td>\n",
              "      <td>False</td>\n",
              "    </tr>\n",
              "    <tr>\n",
              "      <th>2</th>\n",
              "      <td>99.0</td>\n",
              "      <td>MIN</td>\n",
              "      <td>99</td>\n",
              "      <td>0</td>\n",
              "      <td>107.0</td>\n",
              "      <td>SAS</td>\n",
              "      <td>107</td>\n",
              "      <td>1</td>\n",
              "      <td>False</td>\n",
              "    </tr>\n",
              "    <tr>\n",
              "      <th>3</th>\n",
              "      <td>107.0</td>\n",
              "      <td>SAS</td>\n",
              "      <td>107</td>\n",
              "      <td>1</td>\n",
              "      <td>99.0</td>\n",
              "      <td>MIN</td>\n",
              "      <td>99</td>\n",
              "      <td>0</td>\n",
              "      <td>True</td>\n",
              "    </tr>\n",
              "    <tr>\n",
              "      <th>4</th>\n",
              "      <td>75.0</td>\n",
              "      <td>ORL</td>\n",
              "      <td>75</td>\n",
              "      <td>0</td>\n",
              "      <td>92.0</td>\n",
              "      <td>MEM</td>\n",
              "      <td>92</td>\n",
              "      <td>1</td>\n",
              "      <td>False</td>\n",
              "    </tr>\n",
              "    <tr>\n",
              "      <th>...</th>\n",
              "      <td>...</td>\n",
              "      <td>...</td>\n",
              "      <td>...</td>\n",
              "      <td>...</td>\n",
              "      <td>...</td>\n",
              "      <td>...</td>\n",
              "      <td>...</td>\n",
              "      <td>...</td>\n",
              "      <td>...</td>\n",
              "    </tr>\n",
              "    <tr>\n",
              "      <th>17767</th>\n",
              "      <td>108.0</td>\n",
              "      <td>LAC</td>\n",
              "      <td>108</td>\n",
              "      <td>1</td>\n",
              "      <td>92.0</td>\n",
              "      <td>OKC</td>\n",
              "      <td>92</td>\n",
              "      <td>0</td>\n",
              "      <td>True</td>\n",
              "    </tr>\n",
              "    <tr>\n",
              "      <th>17768</th>\n",
              "      <td>113.0</td>\n",
              "      <td>LAC</td>\n",
              "      <td>113</td>\n",
              "      <td>0</td>\n",
              "      <td>108.0</td>\n",
              "      <td>ORL</td>\n",
              "      <td>108</td>\n",
              "      <td>1</td>\n",
              "      <td>True</td>\n",
              "    </tr>\n",
              "    <tr>\n",
              "      <th>17769</th>\n",
              "      <td>108.0</td>\n",
              "      <td>ORL</td>\n",
              "      <td>108</td>\n",
              "      <td>1</td>\n",
              "      <td>113.0</td>\n",
              "      <td>LAC</td>\n",
              "      <td>113</td>\n",
              "      <td>0</td>\n",
              "      <td>False</td>\n",
              "    </tr>\n",
              "    <tr>\n",
              "      <th>17770</th>\n",
              "      <td>117.0</td>\n",
              "      <td>BOS</td>\n",
              "      <td>117</td>\n",
              "      <td>0</td>\n",
              "      <td>106.0</td>\n",
              "      <td>MIA</td>\n",
              "      <td>106</td>\n",
              "      <td>1</td>\n",
              "      <td>True</td>\n",
              "    </tr>\n",
              "    <tr>\n",
              "      <th>17771</th>\n",
              "      <td>106.0</td>\n",
              "      <td>MIA</td>\n",
              "      <td>106</td>\n",
              "      <td>1</td>\n",
              "      <td>117.0</td>\n",
              "      <td>BOS</td>\n",
              "      <td>117</td>\n",
              "      <td>0</td>\n",
              "      <td>False</td>\n",
              "    </tr>\n",
              "  </tbody>\n",
              "</table>\n",
              "<p>17772 rows × 9 columns</p>\n",
              "</div>\n",
              "      <button class=\"colab-df-convert\" onclick=\"convertToInteractive('df-f8de6a6a-d88a-4dd9-ae31-5ee3a535985d')\"\n",
              "              title=\"Convert this dataframe to an interactive table.\"\n",
              "              style=\"display:none;\">\n",
              "        \n",
              "  <svg xmlns=\"http://www.w3.org/2000/svg\" height=\"24px\"viewBox=\"0 0 24 24\"\n",
              "       width=\"24px\">\n",
              "    <path d=\"M0 0h24v24H0V0z\" fill=\"none\"/>\n",
              "    <path d=\"M18.56 5.44l.94 2.06.94-2.06 2.06-.94-2.06-.94-.94-2.06-.94 2.06-2.06.94zm-11 1L8.5 8.5l.94-2.06 2.06-.94-2.06-.94L8.5 2.5l-.94 2.06-2.06.94zm10 10l.94 2.06.94-2.06 2.06-.94-2.06-.94-.94-2.06-.94 2.06-2.06.94z\"/><path d=\"M17.41 7.96l-1.37-1.37c-.4-.4-.92-.59-1.43-.59-.52 0-1.04.2-1.43.59L10.3 9.45l-7.72 7.72c-.78.78-.78 2.05 0 2.83L4 21.41c.39.39.9.59 1.41.59.51 0 1.02-.2 1.41-.59l7.78-7.78 2.81-2.81c.8-.78.8-2.07 0-2.86zM5.41 20L4 18.59l7.72-7.72 1.47 1.35L5.41 20z\"/>\n",
              "  </svg>\n",
              "      </button>\n",
              "      \n",
              "  <style>\n",
              "    .colab-df-container {\n",
              "      display:flex;\n",
              "      flex-wrap:wrap;\n",
              "      gap: 12px;\n",
              "    }\n",
              "\n",
              "    .colab-df-convert {\n",
              "      background-color: #E8F0FE;\n",
              "      border: none;\n",
              "      border-radius: 50%;\n",
              "      cursor: pointer;\n",
              "      display: none;\n",
              "      fill: #1967D2;\n",
              "      height: 32px;\n",
              "      padding: 0 0 0 0;\n",
              "      width: 32px;\n",
              "    }\n",
              "\n",
              "    .colab-df-convert:hover {\n",
              "      background-color: #E2EBFA;\n",
              "      box-shadow: 0px 1px 2px rgba(60, 64, 67, 0.3), 0px 1px 3px 1px rgba(60, 64, 67, 0.15);\n",
              "      fill: #174EA6;\n",
              "    }\n",
              "\n",
              "    [theme=dark] .colab-df-convert {\n",
              "      background-color: #3B4455;\n",
              "      fill: #D2E3FC;\n",
              "    }\n",
              "\n",
              "    [theme=dark] .colab-df-convert:hover {\n",
              "      background-color: #434B5C;\n",
              "      box-shadow: 0px 1px 3px 1px rgba(0, 0, 0, 0.15);\n",
              "      filter: drop-shadow(0px 1px 2px rgba(0, 0, 0, 0.3));\n",
              "      fill: #FFFFFF;\n",
              "    }\n",
              "  </style>\n",
              "\n",
              "      <script>\n",
              "        const buttonEl =\n",
              "          document.querySelector('#df-f8de6a6a-d88a-4dd9-ae31-5ee3a535985d button.colab-df-convert');\n",
              "        buttonEl.style.display =\n",
              "          google.colab.kernel.accessAllowed ? 'block' : 'none';\n",
              "\n",
              "        async function convertToInteractive(key) {\n",
              "          const element = document.querySelector('#df-f8de6a6a-d88a-4dd9-ae31-5ee3a535985d');\n",
              "          const dataTable =\n",
              "            await google.colab.kernel.invokeFunction('convertToInteractive',\n",
              "                                                     [key], {});\n",
              "          if (!dataTable) return;\n",
              "\n",
              "          const docLinkHtml = 'Like what you see? Visit the ' +\n",
              "            '<a target=\"_blank\" href=https://colab.research.google.com/notebooks/data_table.ipynb>data table notebook</a>'\n",
              "            + ' to learn more about interactive tables.';\n",
              "          element.innerHTML = '';\n",
              "          dataTable['output_type'] = 'display_data';\n",
              "          await google.colab.output.renderOutput(dataTable, element);\n",
              "          const docLink = document.createElement('div');\n",
              "          docLink.innerHTML = docLinkHtml;\n",
              "          element.appendChild(docLink);\n",
              "        }\n",
              "      </script>\n",
              "    </div>\n",
              "  </div>\n",
              "  "
            ]
          },
          "metadata": {},
          "execution_count": 5
        }
      ]
    },
    {
      "cell_type": "markdown",
      "source": [
        "Data Cleaning - Keeping consistent teams."
      ],
      "metadata": {
        "id": "N_SV058VFVvJ"
      }
    },
    {
      "cell_type": "code",
      "source": [
        "const_teams = ['BOS','CHI','PHI','MIL','DET','LAL','CLE','ATL']"
      ],
      "metadata": {
        "id": "itLV8BOYn_sl"
      },
      "execution_count": null,
      "outputs": []
    },
    {
      "cell_type": "code",
      "source": [
        "print(f'Before Removing Inconsistent Teams : {new_df.shape}')\n",
        "new_df = new_df[(new_df['team'].isin(const_teams)) & (new_df['team_opp'].isin(const_teams))]\n",
        "print(f'After Removing Irrelevant Columns : {new_df.shape}')\n",
        "print(f\"Consistent Teams : \\n{new_df['team'].unique()}\")\n",
        "new_df.head()"
      ],
      "metadata": {
        "colab": {
          "base_uri": "https://localhost:8080/",
          "height": 278
        },
        "id": "AwcUMLfAoDXN",
        "outputId": "2030547f-2e30-4974-9d2e-71d8729fa956"
      },
      "execution_count": null,
      "outputs": [
        {
          "output_type": "stream",
          "name": "stdout",
          "text": [
            "Before Removing Inconsistent Teams : (17772, 9)\n",
            "After Removing Irrelevant Columns : (1396, 9)\n",
            "Consistent Teams : \n",
            "['DET' 'PHI' 'BOS' 'MIL' 'ATL' 'CLE' 'CHI' 'LAL']\n"
          ]
        },
        {
          "output_type": "execute_result",
          "data": {
            "text/plain": [
              "       pts team  total  home  pts_opp team_opp  total_opp  home_opp    won\n",
              "64   104.0  DET    104     0    118.0      PHI        118         1  False\n",
              "65   118.0  PHI    118     1    104.0      DET        104         0   True\n",
              "218   92.0  BOS     92     0    116.0      MIL        116         1  False\n",
              "219  116.0  MIL    116     1     92.0      BOS         92         0   True\n",
              "260  111.0  ATL    111     0    112.0      CLE        112         1  False"
            ],
            "text/html": [
              "\n",
              "  <div id=\"df-a47f27da-e0ac-4365-a6d0-8e7326e24e14\">\n",
              "    <div class=\"colab-df-container\">\n",
              "      <div>\n",
              "<style scoped>\n",
              "    .dataframe tbody tr th:only-of-type {\n",
              "        vertical-align: middle;\n",
              "    }\n",
              "\n",
              "    .dataframe tbody tr th {\n",
              "        vertical-align: top;\n",
              "    }\n",
              "\n",
              "    .dataframe thead th {\n",
              "        text-align: right;\n",
              "    }\n",
              "</style>\n",
              "<table border=\"1\" class=\"dataframe\">\n",
              "  <thead>\n",
              "    <tr style=\"text-align: right;\">\n",
              "      <th></th>\n",
              "      <th>pts</th>\n",
              "      <th>team</th>\n",
              "      <th>total</th>\n",
              "      <th>home</th>\n",
              "      <th>pts_opp</th>\n",
              "      <th>team_opp</th>\n",
              "      <th>total_opp</th>\n",
              "      <th>home_opp</th>\n",
              "      <th>won</th>\n",
              "    </tr>\n",
              "  </thead>\n",
              "  <tbody>\n",
              "    <tr>\n",
              "      <th>64</th>\n",
              "      <td>104.0</td>\n",
              "      <td>DET</td>\n",
              "      <td>104</td>\n",
              "      <td>0</td>\n",
              "      <td>118.0</td>\n",
              "      <td>PHI</td>\n",
              "      <td>118</td>\n",
              "      <td>1</td>\n",
              "      <td>False</td>\n",
              "    </tr>\n",
              "    <tr>\n",
              "      <th>65</th>\n",
              "      <td>118.0</td>\n",
              "      <td>PHI</td>\n",
              "      <td>118</td>\n",
              "      <td>1</td>\n",
              "      <td>104.0</td>\n",
              "      <td>DET</td>\n",
              "      <td>104</td>\n",
              "      <td>0</td>\n",
              "      <td>True</td>\n",
              "    </tr>\n",
              "    <tr>\n",
              "      <th>218</th>\n",
              "      <td>92.0</td>\n",
              "      <td>BOS</td>\n",
              "      <td>92</td>\n",
              "      <td>0</td>\n",
              "      <td>116.0</td>\n",
              "      <td>MIL</td>\n",
              "      <td>116</td>\n",
              "      <td>1</td>\n",
              "      <td>False</td>\n",
              "    </tr>\n",
              "    <tr>\n",
              "      <th>219</th>\n",
              "      <td>116.0</td>\n",
              "      <td>MIL</td>\n",
              "      <td>116</td>\n",
              "      <td>1</td>\n",
              "      <td>92.0</td>\n",
              "      <td>BOS</td>\n",
              "      <td>92</td>\n",
              "      <td>0</td>\n",
              "      <td>True</td>\n",
              "    </tr>\n",
              "    <tr>\n",
              "      <th>260</th>\n",
              "      <td>111.0</td>\n",
              "      <td>ATL</td>\n",
              "      <td>111</td>\n",
              "      <td>0</td>\n",
              "      <td>112.0</td>\n",
              "      <td>CLE</td>\n",
              "      <td>112</td>\n",
              "      <td>1</td>\n",
              "      <td>False</td>\n",
              "    </tr>\n",
              "  </tbody>\n",
              "</table>\n",
              "</div>\n",
              "      <button class=\"colab-df-convert\" onclick=\"convertToInteractive('df-a47f27da-e0ac-4365-a6d0-8e7326e24e14')\"\n",
              "              title=\"Convert this dataframe to an interactive table.\"\n",
              "              style=\"display:none;\">\n",
              "        \n",
              "  <svg xmlns=\"http://www.w3.org/2000/svg\" height=\"24px\"viewBox=\"0 0 24 24\"\n",
              "       width=\"24px\">\n",
              "    <path d=\"M0 0h24v24H0V0z\" fill=\"none\"/>\n",
              "    <path d=\"M18.56 5.44l.94 2.06.94-2.06 2.06-.94-2.06-.94-.94-2.06-.94 2.06-2.06.94zm-11 1L8.5 8.5l.94-2.06 2.06-.94-2.06-.94L8.5 2.5l-.94 2.06-2.06.94zm10 10l.94 2.06.94-2.06 2.06-.94-2.06-.94-.94-2.06-.94 2.06-2.06.94z\"/><path d=\"M17.41 7.96l-1.37-1.37c-.4-.4-.92-.59-1.43-.59-.52 0-1.04.2-1.43.59L10.3 9.45l-7.72 7.72c-.78.78-.78 2.05 0 2.83L4 21.41c.39.39.9.59 1.41.59.51 0 1.02-.2 1.41-.59l7.78-7.78 2.81-2.81c.8-.78.8-2.07 0-2.86zM5.41 20L4 18.59l7.72-7.72 1.47 1.35L5.41 20z\"/>\n",
              "  </svg>\n",
              "      </button>\n",
              "      \n",
              "  <style>\n",
              "    .colab-df-container {\n",
              "      display:flex;\n",
              "      flex-wrap:wrap;\n",
              "      gap: 12px;\n",
              "    }\n",
              "\n",
              "    .colab-df-convert {\n",
              "      background-color: #E8F0FE;\n",
              "      border: none;\n",
              "      border-radius: 50%;\n",
              "      cursor: pointer;\n",
              "      display: none;\n",
              "      fill: #1967D2;\n",
              "      height: 32px;\n",
              "      padding: 0 0 0 0;\n",
              "      width: 32px;\n",
              "    }\n",
              "\n",
              "    .colab-df-convert:hover {\n",
              "      background-color: #E2EBFA;\n",
              "      box-shadow: 0px 1px 2px rgba(60, 64, 67, 0.3), 0px 1px 3px 1px rgba(60, 64, 67, 0.15);\n",
              "      fill: #174EA6;\n",
              "    }\n",
              "\n",
              "    [theme=dark] .colab-df-convert {\n",
              "      background-color: #3B4455;\n",
              "      fill: #D2E3FC;\n",
              "    }\n",
              "\n",
              "    [theme=dark] .colab-df-convert:hover {\n",
              "      background-color: #434B5C;\n",
              "      box-shadow: 0px 1px 3px 1px rgba(0, 0, 0, 0.15);\n",
              "      filter: drop-shadow(0px 1px 2px rgba(0, 0, 0, 0.3));\n",
              "      fill: #FFFFFF;\n",
              "    }\n",
              "  </style>\n",
              "\n",
              "      <script>\n",
              "        const buttonEl =\n",
              "          document.querySelector('#df-a47f27da-e0ac-4365-a6d0-8e7326e24e14 button.colab-df-convert');\n",
              "        buttonEl.style.display =\n",
              "          google.colab.kernel.accessAllowed ? 'block' : 'none';\n",
              "\n",
              "        async function convertToInteractive(key) {\n",
              "          const element = document.querySelector('#df-a47f27da-e0ac-4365-a6d0-8e7326e24e14');\n",
              "          const dataTable =\n",
              "            await google.colab.kernel.invokeFunction('convertToInteractive',\n",
              "                                                     [key], {});\n",
              "          if (!dataTable) return;\n",
              "\n",
              "          const docLinkHtml = 'Like what you see? Visit the ' +\n",
              "            '<a target=\"_blank\" href=https://colab.research.google.com/notebooks/data_table.ipynb>data table notebook</a>'\n",
              "            + ' to learn more about interactive tables.';\n",
              "          element.innerHTML = '';\n",
              "          dataTable['output_type'] = 'display_data';\n",
              "          await google.colab.output.renderOutput(dataTable, element);\n",
              "          const docLink = document.createElement('div');\n",
              "          docLink.innerHTML = docLinkHtml;\n",
              "          element.appendChild(docLink);\n",
              "        }\n",
              "      </script>\n",
              "    </div>\n",
              "  </div>\n",
              "  "
            ]
          },
          "metadata": {},
          "execution_count": 7
        }
      ]
    },
    {
      "cell_type": "markdown",
      "source": [
        "Data Preprocessing - Performing One Hot Encoding, Label Encoding and Column Transformation."
      ],
      "metadata": {
        "id": "aZSUiLcmGUgn"
      }
    },
    {
      "cell_type": "markdown",
      "source": [
        "Feature Engineering"
      ],
      "metadata": {
        "id": "olL-zMP9HCp2"
      }
    },
    {
      "cell_type": "code",
      "source": [
        "import pandas as pd\n",
        "from sklearn.preprocessing import LabelEncoder, OneHotEncoder\n",
        "\n",
        "# Perform one-hot encoding on 'team' and 'team_opp' columns\n",
        "onehot_cols = ['team', 'team_opp']\n",
        "onehot_encoder = OneHotEncoder(sparse=False)\n",
        "onehot_encoded = pd.DataFrame(onehot_encoder.fit_transform(new_df[onehot_cols]))\n",
        "\n",
        "# Retrieve feature names for one-hot encoded columns\n",
        "onehot_feature_names = []\n",
        "for feature in onehot_encoder.categories_:\n",
        "    onehot_feature_names.extend(feature)\n",
        "\n",
        "onehot_encoded.columns = onehot_feature_names\n",
        "\n",
        "# Perform label encoding on 'home' and 'home_opp' columns\n",
        "label_cols = ['home', 'home_opp']\n",
        "label_encoder = LabelEncoder()\n",
        "for col in label_cols:\n",
        "    new_df[col] = label_encoder.fit_transform(new_df[col])\n",
        "\n",
        "# Select relevant columns for analysis\n",
        "selected_cols = ['pts', 'total', 'home', 'pts_opp', 'total_opp', 'home_opp', 'won']\n",
        "selected_final_df = pd.concat([new_df[selected_cols], onehot_encoded], axis=1)\n",
        "\n",
        "# Perform any additional preprocessing or feature engineering as needed\n",
        "\n",
        "# Split the data into input features (X) and target variable (y)\n",
        "X = selected_final_df.drop('won', axis=1)\n",
        "y = selected_final_df['won']\n",
        "\n",
        "# Now you can use X and y in your random forest algorithm for prediction\n",
        "\n"
      ],
      "metadata": {
        "colab": {
          "base_uri": "https://localhost:8080/"
        },
        "id": "0iREgTfroIHI",
        "outputId": "35e2a337-674c-4224-dd67-ae6610a4e909"
      },
      "execution_count": null,
      "outputs": [
        {
          "output_type": "stream",
          "name": "stderr",
          "text": [
            "/usr/local/lib/python3.10/dist-packages/sklearn/preprocessing/_encoders.py:868: FutureWarning: `sparse` was renamed to `sparse_output` in version 1.2 and will be removed in 1.4. `sparse_output` is ignored unless you leave `sparse` to its default value.\n",
            "  warnings.warn(\n",
            "<ipython-input-8-2d134e36bc8b>:20: SettingWithCopyWarning: \n",
            "A value is trying to be set on a copy of a slice from a DataFrame.\n",
            "Try using .loc[row_indexer,col_indexer] = value instead\n",
            "\n",
            "See the caveats in the documentation: https://pandas.pydata.org/pandas-docs/stable/user_guide/indexing.html#returning-a-view-versus-a-copy\n",
            "  new_df[col] = label_encoder.fit_transform(new_df[col])\n",
            "<ipython-input-8-2d134e36bc8b>:20: SettingWithCopyWarning: \n",
            "A value is trying to be set on a copy of a slice from a DataFrame.\n",
            "Try using .loc[row_indexer,col_indexer] = value instead\n",
            "\n",
            "See the caveats in the documentation: https://pandas.pydata.org/pandas-docs/stable/user_guide/indexing.html#returning-a-view-versus-a-copy\n",
            "  new_df[col] = label_encoder.fit_transform(new_df[col])\n"
          ]
        }
      ]
    },
    {
      "cell_type": "markdown",
      "source": [
        "Model Building"
      ],
      "metadata": {
        "id": "PiyE2uneH29c"
      }
    },
    {
      "cell_type": "markdown",
      "source": [
        "Splitting the data"
      ],
      "metadata": {
        "id": "SqX5ML8_HkKa"
      }
    },
    {
      "cell_type": "code",
      "source": [
        "from sklearn.model_selection import train_test_split\n",
        "train_X, test_X, train_y, test_y = train_test_split(X, y, test_size=0.20, shuffle=True)\n",
        "print(f\"Training Set : {train_X.shape}\\nTesting Set : {test_X.shape}\")"
      ],
      "metadata": {
        "colab": {
          "base_uri": "https://localhost:8080/"
        },
        "id": "OQyjWArgrEb9",
        "outputId": "0ebcc8a9-1761-40b8-ecfc-cd7a486f1d88"
      },
      "execution_count": null,
      "outputs": [
        {
          "output_type": "stream",
          "name": "stdout",
          "text": [
            "Training Set : (2168, 22)\n",
            "Testing Set : (542, 22)\n"
          ]
        }
      ]
    },
    {
      "cell_type": "code",
      "source": [
        "models = dict()"
      ],
      "metadata": {
        "id": "JSKM8oy8rVu6"
      },
      "execution_count": null,
      "outputs": []
    },
    {
      "cell_type": "markdown",
      "source": [
        "Data Cleaning - Removing the missing values from the features(X) and labels(y)."
      ],
      "metadata": {
        "id": "OiejQEvxH75R"
      }
    },
    {
      "cell_type": "code",
      "source": [
        "# Drop rows with missing values from train_X\n",
        "train_X = train_X.dropna()\n",
        "\n",
        "# Drop rows with missing values from test_X\n",
        "test_X = test_X.dropna()\n",
        "# Drop corresponding rows from train_y\n",
        "train_y = train_y[train_X.index]\n",
        "\n",
        "# Drop corresponding rows from test_y\n",
        "test_y = test_y[test_X.index]\n",
        "\n"
      ],
      "metadata": {
        "id": "_9wxOzY6xqOe"
      },
      "execution_count": null,
      "outputs": []
    },
    {
      "cell_type": "code",
      "source": [
        "train_X.head()"
      ],
      "metadata": {
        "colab": {
          "base_uri": "https://localhost:8080/",
          "height": 279
        },
        "id": "9uM_ddNNNI0d",
        "outputId": "886d3493-b905-493b-94e9-35f48bef1d3a"
      },
      "execution_count": null,
      "outputs": [
        {
          "output_type": "execute_result",
          "data": {
            "text/plain": [
              "        pts  total  home  pts_opp  total_opp  home_opp  ATL  BOS  CHI  CLE  \\\n",
              "261   112.0  112.0   1.0    111.0      111.0       0.0  0.0  0.0  0.0  0.0   \n",
              "1278   87.0   87.0   0.0    105.0      105.0       1.0  0.0  1.0  0.0  0.0   \n",
              "891    99.0   99.0   1.0     95.0       95.0       0.0  0.0  0.0  0.0  0.0   \n",
              "371   105.0  105.0   1.0     96.0       96.0       0.0  1.0  0.0  0.0  0.0   \n",
              "808   114.0  114.0   0.0    106.0      106.0       1.0  0.0  1.0  0.0  0.0   \n",
              "\n",
              "      ...  MIL  PHI  ATL  BOS  CHI  CLE  DET  LAL  MIL  PHI  \n",
              "261   ...  0.0  0.0  0.0  0.0  0.0  0.0  0.0  0.0  0.0  1.0  \n",
              "1278  ...  0.0  0.0  0.0  0.0  0.0  1.0  0.0  0.0  0.0  0.0  \n",
              "891   ...  1.0  0.0  1.0  0.0  0.0  0.0  0.0  0.0  0.0  0.0  \n",
              "371   ...  0.0  0.0  0.0  0.0  0.0  0.0  0.0  0.0  1.0  0.0  \n",
              "808   ...  0.0  0.0  0.0  0.0  0.0  1.0  0.0  0.0  0.0  0.0  \n",
              "\n",
              "[5 rows x 22 columns]"
            ],
            "text/html": [
              "\n",
              "  <div id=\"df-d963e212-b575-44f2-a0be-22a5a4d99691\">\n",
              "    <div class=\"colab-df-container\">\n",
              "      <div>\n",
              "<style scoped>\n",
              "    .dataframe tbody tr th:only-of-type {\n",
              "        vertical-align: middle;\n",
              "    }\n",
              "\n",
              "    .dataframe tbody tr th {\n",
              "        vertical-align: top;\n",
              "    }\n",
              "\n",
              "    .dataframe thead th {\n",
              "        text-align: right;\n",
              "    }\n",
              "</style>\n",
              "<table border=\"1\" class=\"dataframe\">\n",
              "  <thead>\n",
              "    <tr style=\"text-align: right;\">\n",
              "      <th></th>\n",
              "      <th>pts</th>\n",
              "      <th>total</th>\n",
              "      <th>home</th>\n",
              "      <th>pts_opp</th>\n",
              "      <th>total_opp</th>\n",
              "      <th>home_opp</th>\n",
              "      <th>ATL</th>\n",
              "      <th>BOS</th>\n",
              "      <th>CHI</th>\n",
              "      <th>CLE</th>\n",
              "      <th>...</th>\n",
              "      <th>MIL</th>\n",
              "      <th>PHI</th>\n",
              "      <th>ATL</th>\n",
              "      <th>BOS</th>\n",
              "      <th>CHI</th>\n",
              "      <th>CLE</th>\n",
              "      <th>DET</th>\n",
              "      <th>LAL</th>\n",
              "      <th>MIL</th>\n",
              "      <th>PHI</th>\n",
              "    </tr>\n",
              "  </thead>\n",
              "  <tbody>\n",
              "    <tr>\n",
              "      <th>261</th>\n",
              "      <td>112.0</td>\n",
              "      <td>112.0</td>\n",
              "      <td>1.0</td>\n",
              "      <td>111.0</td>\n",
              "      <td>111.0</td>\n",
              "      <td>0.0</td>\n",
              "      <td>0.0</td>\n",
              "      <td>0.0</td>\n",
              "      <td>0.0</td>\n",
              "      <td>0.0</td>\n",
              "      <td>...</td>\n",
              "      <td>0.0</td>\n",
              "      <td>0.0</td>\n",
              "      <td>0.0</td>\n",
              "      <td>0.0</td>\n",
              "      <td>0.0</td>\n",
              "      <td>0.0</td>\n",
              "      <td>0.0</td>\n",
              "      <td>0.0</td>\n",
              "      <td>0.0</td>\n",
              "      <td>1.0</td>\n",
              "    </tr>\n",
              "    <tr>\n",
              "      <th>1278</th>\n",
              "      <td>87.0</td>\n",
              "      <td>87.0</td>\n",
              "      <td>0.0</td>\n",
              "      <td>105.0</td>\n",
              "      <td>105.0</td>\n",
              "      <td>1.0</td>\n",
              "      <td>0.0</td>\n",
              "      <td>1.0</td>\n",
              "      <td>0.0</td>\n",
              "      <td>0.0</td>\n",
              "      <td>...</td>\n",
              "      <td>0.0</td>\n",
              "      <td>0.0</td>\n",
              "      <td>0.0</td>\n",
              "      <td>0.0</td>\n",
              "      <td>0.0</td>\n",
              "      <td>1.0</td>\n",
              "      <td>0.0</td>\n",
              "      <td>0.0</td>\n",
              "      <td>0.0</td>\n",
              "      <td>0.0</td>\n",
              "    </tr>\n",
              "    <tr>\n",
              "      <th>891</th>\n",
              "      <td>99.0</td>\n",
              "      <td>99.0</td>\n",
              "      <td>1.0</td>\n",
              "      <td>95.0</td>\n",
              "      <td>95.0</td>\n",
              "      <td>0.0</td>\n",
              "      <td>0.0</td>\n",
              "      <td>0.0</td>\n",
              "      <td>0.0</td>\n",
              "      <td>0.0</td>\n",
              "      <td>...</td>\n",
              "      <td>1.0</td>\n",
              "      <td>0.0</td>\n",
              "      <td>1.0</td>\n",
              "      <td>0.0</td>\n",
              "      <td>0.0</td>\n",
              "      <td>0.0</td>\n",
              "      <td>0.0</td>\n",
              "      <td>0.0</td>\n",
              "      <td>0.0</td>\n",
              "      <td>0.0</td>\n",
              "    </tr>\n",
              "    <tr>\n",
              "      <th>371</th>\n",
              "      <td>105.0</td>\n",
              "      <td>105.0</td>\n",
              "      <td>1.0</td>\n",
              "      <td>96.0</td>\n",
              "      <td>96.0</td>\n",
              "      <td>0.0</td>\n",
              "      <td>1.0</td>\n",
              "      <td>0.0</td>\n",
              "      <td>0.0</td>\n",
              "      <td>0.0</td>\n",
              "      <td>...</td>\n",
              "      <td>0.0</td>\n",
              "      <td>0.0</td>\n",
              "      <td>0.0</td>\n",
              "      <td>0.0</td>\n",
              "      <td>0.0</td>\n",
              "      <td>0.0</td>\n",
              "      <td>0.0</td>\n",
              "      <td>0.0</td>\n",
              "      <td>1.0</td>\n",
              "      <td>0.0</td>\n",
              "    </tr>\n",
              "    <tr>\n",
              "      <th>808</th>\n",
              "      <td>114.0</td>\n",
              "      <td>114.0</td>\n",
              "      <td>0.0</td>\n",
              "      <td>106.0</td>\n",
              "      <td>106.0</td>\n",
              "      <td>1.0</td>\n",
              "      <td>0.0</td>\n",
              "      <td>1.0</td>\n",
              "      <td>0.0</td>\n",
              "      <td>0.0</td>\n",
              "      <td>...</td>\n",
              "      <td>0.0</td>\n",
              "      <td>0.0</td>\n",
              "      <td>0.0</td>\n",
              "      <td>0.0</td>\n",
              "      <td>0.0</td>\n",
              "      <td>1.0</td>\n",
              "      <td>0.0</td>\n",
              "      <td>0.0</td>\n",
              "      <td>0.0</td>\n",
              "      <td>0.0</td>\n",
              "    </tr>\n",
              "  </tbody>\n",
              "</table>\n",
              "<p>5 rows × 22 columns</p>\n",
              "</div>\n",
              "      <button class=\"colab-df-convert\" onclick=\"convertToInteractive('df-d963e212-b575-44f2-a0be-22a5a4d99691')\"\n",
              "              title=\"Convert this dataframe to an interactive table.\"\n",
              "              style=\"display:none;\">\n",
              "        \n",
              "  <svg xmlns=\"http://www.w3.org/2000/svg\" height=\"24px\"viewBox=\"0 0 24 24\"\n",
              "       width=\"24px\">\n",
              "    <path d=\"M0 0h24v24H0V0z\" fill=\"none\"/>\n",
              "    <path d=\"M18.56 5.44l.94 2.06.94-2.06 2.06-.94-2.06-.94-.94-2.06-.94 2.06-2.06.94zm-11 1L8.5 8.5l.94-2.06 2.06-.94-2.06-.94L8.5 2.5l-.94 2.06-2.06.94zm10 10l.94 2.06.94-2.06 2.06-.94-2.06-.94-.94-2.06-.94 2.06-2.06.94z\"/><path d=\"M17.41 7.96l-1.37-1.37c-.4-.4-.92-.59-1.43-.59-.52 0-1.04.2-1.43.59L10.3 9.45l-7.72 7.72c-.78.78-.78 2.05 0 2.83L4 21.41c.39.39.9.59 1.41.59.51 0 1.02-.2 1.41-.59l7.78-7.78 2.81-2.81c.8-.78.8-2.07 0-2.86zM5.41 20L4 18.59l7.72-7.72 1.47 1.35L5.41 20z\"/>\n",
              "  </svg>\n",
              "      </button>\n",
              "      \n",
              "  <style>\n",
              "    .colab-df-container {\n",
              "      display:flex;\n",
              "      flex-wrap:wrap;\n",
              "      gap: 12px;\n",
              "    }\n",
              "\n",
              "    .colab-df-convert {\n",
              "      background-color: #E8F0FE;\n",
              "      border: none;\n",
              "      border-radius: 50%;\n",
              "      cursor: pointer;\n",
              "      display: none;\n",
              "      fill: #1967D2;\n",
              "      height: 32px;\n",
              "      padding: 0 0 0 0;\n",
              "      width: 32px;\n",
              "    }\n",
              "\n",
              "    .colab-df-convert:hover {\n",
              "      background-color: #E2EBFA;\n",
              "      box-shadow: 0px 1px 2px rgba(60, 64, 67, 0.3), 0px 1px 3px 1px rgba(60, 64, 67, 0.15);\n",
              "      fill: #174EA6;\n",
              "    }\n",
              "\n",
              "    [theme=dark] .colab-df-convert {\n",
              "      background-color: #3B4455;\n",
              "      fill: #D2E3FC;\n",
              "    }\n",
              "\n",
              "    [theme=dark] .colab-df-convert:hover {\n",
              "      background-color: #434B5C;\n",
              "      box-shadow: 0px 1px 3px 1px rgba(0, 0, 0, 0.15);\n",
              "      filter: drop-shadow(0px 1px 2px rgba(0, 0, 0, 0.3));\n",
              "      fill: #FFFFFF;\n",
              "    }\n",
              "  </style>\n",
              "\n",
              "      <script>\n",
              "        const buttonEl =\n",
              "          document.querySelector('#df-d963e212-b575-44f2-a0be-22a5a4d99691 button.colab-df-convert');\n",
              "        buttonEl.style.display =\n",
              "          google.colab.kernel.accessAllowed ? 'block' : 'none';\n",
              "\n",
              "        async function convertToInteractive(key) {\n",
              "          const element = document.querySelector('#df-d963e212-b575-44f2-a0be-22a5a4d99691');\n",
              "          const dataTable =\n",
              "            await google.colab.kernel.invokeFunction('convertToInteractive',\n",
              "                                                     [key], {});\n",
              "          if (!dataTable) return;\n",
              "\n",
              "          const docLinkHtml = 'Like what you see? Visit the ' +\n",
              "            '<a target=\"_blank\" href=https://colab.research.google.com/notebooks/data_table.ipynb>data table notebook</a>'\n",
              "            + ' to learn more about interactive tables.';\n",
              "          element.innerHTML = '';\n",
              "          dataTable['output_type'] = 'display_data';\n",
              "          await google.colab.output.renderOutput(dataTable, element);\n",
              "          const docLink = document.createElement('div');\n",
              "          docLink.innerHTML = docLinkHtml;\n",
              "          element.appendChild(docLink);\n",
              "        }\n",
              "      </script>\n",
              "    </div>\n",
              "  </div>\n",
              "  "
            ]
          },
          "metadata": {},
          "execution_count": 20
        }
      ]
    },
    {
      "cell_type": "markdown",
      "source": [
        "Predictive Modeling"
      ],
      "metadata": {
        "id": "OPl4mcmzINcV"
      }
    },
    {
      "cell_type": "markdown",
      "source": [
        "Random Forest Regressor\n",
        "\n",
        "The best model that gives higher accuracy than the rest."
      ],
      "metadata": {
        "id": "mw7zbB1gIQrU"
      }
    },
    {
      "cell_type": "code",
      "source": [
        "from sklearn.ensemble import RandomForestRegressor\n",
        "from sklearn.impute import KNNImputer\n",
        "\n",
        "# Create an instance of the KNNImputer with the desired number of neighbors\n",
        "imputer = KNNImputer(n_neighbors=5)\n",
        "\n",
        "# Impute missing values in the training data\n",
        "imputed_train_X = imputer.fit_transform(train_X)\n",
        "\n",
        "# Create an instance of the random forest regressor\n",
        "forest = RandomForestRegressor()\n",
        "\n",
        "# Train the model with the imputed training data\n",
        "forest.fit(imputed_train_X, train_y)\n",
        "\n",
        "train_score_forest = str(forest.score(train_X, train_y) * 100)\n",
        "test_score_forest = str(forest.score(test_X, test_y) * 100)\n",
        "print(f'Train Score: {train_score_forest[:5]}%\\nTest Score: {test_score_forest[:5]}%')\n",
        "models[\"forest\"] = test_score_forest\n",
        "\n",
        "\n"
      ],
      "metadata": {
        "colab": {
          "base_uri": "https://localhost:8080/"
        },
        "id": "j8ZUisbyrXSX",
        "outputId": "0cdbf400-c13c-48d3-c112-05c168b7e1ab"
      },
      "execution_count": null,
      "outputs": [
        {
          "output_type": "stream",
          "name": "stdout",
          "text": [
            "Train Score: 97.01%\n",
            "Test Score: 65.41%\n"
          ]
        },
        {
          "output_type": "stream",
          "name": "stderr",
          "text": [
            "/usr/local/lib/python3.10/dist-packages/sklearn/base.py:432: UserWarning: X has feature names, but RandomForestRegressor was fitted without feature names\n",
            "  warnings.warn(\n",
            "/usr/local/lib/python3.10/dist-packages/sklearn/base.py:432: UserWarning: X has feature names, but RandomForestRegressor was fitted without feature names\n",
            "  warnings.warn(\n"
          ]
        }
      ]
    },
    {
      "cell_type": "code",
      "source": [
        "from sklearn.metrics import mean_absolute_error as mae, mean_squared_error as mse\n",
        "print(\"Random Forest Regression - Model Evaluation\")\n",
        "print(\"Mean Absolute Error (MAE): {}\".format(mae(test_y, forest.predict(test_X))))\n",
        "print(\"Mean Squared Error (MSE): {}\".format(mse(test_y, forest.predict(test_X))))\n",
        "print(\"Root Mean Squared Error (RMSE): {}\".format(np.sqrt(mse(test_y, forest.predict(test_X)))))"
      ],
      "metadata": {
        "colab": {
          "base_uri": "https://localhost:8080/"
        },
        "id": "5skqu6LEIxAC",
        "outputId": "16c26182-a18f-4b8c-b556-2e7be42cdf5c"
      },
      "execution_count": null,
      "outputs": [
        {
          "output_type": "stream",
          "name": "stdout",
          "text": [
            "Random Forest Regression - Model Evaluation\n",
            "Mean Absolute Error (MAE): 0.18933333333333335\n",
            "Mean Squared Error (MSE): 0.08606666666666667\n",
            "Root Mean Squared Error (RMSE): 0.2933712096758417\n"
          ]
        },
        {
          "output_type": "stream",
          "name": "stderr",
          "text": [
            "/usr/local/lib/python3.10/dist-packages/sklearn/base.py:432: UserWarning: X has feature names, but RandomForestRegressor was fitted without feature names\n",
            "  warnings.warn(\n",
            "/usr/local/lib/python3.10/dist-packages/sklearn/base.py:432: UserWarning: X has feature names, but RandomForestRegressor was fitted without feature names\n",
            "  warnings.warn(\n",
            "/usr/local/lib/python3.10/dist-packages/sklearn/base.py:432: UserWarning: X has feature names, but RandomForestRegressor was fitted without feature names\n",
            "  warnings.warn(\n"
          ]
        }
      ]
    },
    {
      "cell_type": "markdown",
      "source": [
        "Checking feature compatibility"
      ],
      "metadata": {
        "id": "42iEuDiVIfy3"
      }
    },
    {
      "cell_type": "code",
      "source": [
        "import numpy as np\n",
        "\n",
        "# Assuming X_train is your training data\n",
        "print(\"Number of features in training data:\", np.shape(train_X))\n",
        "np.shape(test_X)\n"
      ],
      "metadata": {
        "colab": {
          "base_uri": "https://localhost:8080/"
        },
        "id": "6ED4fF0WHHap",
        "outputId": "d56a26cc-a6c6-40c3-a288-39f904ee1704"
      },
      "execution_count": null,
      "outputs": [
        {
          "output_type": "stream",
          "name": "stdout",
          "text": [
            "Number of features in training data: (67, 22)\n"
          ]
        },
        {
          "output_type": "execute_result",
          "data": {
            "text/plain": [
              "(15, 22)"
            ]
          },
          "metadata": {},
          "execution_count": 15
        }
      ]
    },
    {
      "cell_type": "markdown",
      "source": [
        "Prediction"
      ],
      "metadata": {
        "id": "mTe7DDGYJY0L"
      }
    },
    {
      "cell_type": "code",
      "source": [
        " def score_predict(team,team_opp, pts,total,home,pts_opp,total_opp,home_opp,season, won, model=forest):\n",
        "  prediction_array = []\n",
        "  #Team \n",
        "  if team == 'DET':\n",
        "    prediction_array = prediction_array + [1,0,0,0,0,0,0,0]\n",
        "  elif team == 'PHI':\n",
        "    prediction_array = prediction_array + [0,1,0,0,0,0,0,0]\n",
        "  elif team == 'BOS':\n",
        "    prediction_array = prediction_array + [0,0,1,0,0,0,0,0]\n",
        "  elif team == 'MIL':\n",
        "    prediction_array = prediction_array + [0,0,0,1,0,0,0,0]\n",
        "  elif team == 'ATL':\n",
        "    prediction_array = prediction_array + [0,0,0,0,1,0,0,0]\n",
        "  elif team == 'CLE':\n",
        "    prediction_array = prediction_array + [0,0,0,0,0,1,0,0]\n",
        "  elif team == 'CHI':\n",
        "    prediction_array = prediction_array + [0,0,0,0,0,0,1,0]\n",
        "  elif team == 'LAL':\n",
        "    prediction_array = prediction_array + [0,0,0,0,0,0,0,1]\n",
        "  #Team_opp\n",
        "  if team_opp == 'DET':\n",
        "    prediction_array = prediction_array + [1,0,0,0,0,0,0,0]\n",
        "  elif team_opp == 'PHI':\n",
        "    prediction_array = prediction_array + [0,1,0,0,0,0,0,0]\n",
        "  elif team_opp == 'BOS':\n",
        "    prediction_array = prediction_array + [0,0,1,0,0,0,0,0]\n",
        "  elif team_opp == 'MIL':\n",
        "    prediction_array = prediction_array + [0,0,0,1,0,0,0,0]\n",
        "  elif team_opp == 'ATL':\n",
        "    prediction_array = prediction_array + [0,0,0,0,1,0,0,0]\n",
        "  elif team_opp == 'CLE':\n",
        "    prediction_array = prediction_array + [0,0,0,0,0,1,0,0]\n",
        "  elif team_opp == 'CHI':\n",
        "    prediction_array = prediction_array + [0,0,0,0,0,0,1,0]\n",
        "  elif team_opp == 'LAL':\n",
        "    prediction_array = prediction_array + [0,0,0,0,0,0,0,1]\n",
        "  prediction_array = prediction_array + [pts,total,home,pts_opp,total_opp,home_opp,season,won]\n",
        "  prediction_array = np.array([prediction_array])\n",
        "  pred = model.predict(prediction_array)\n",
        "  return int(round(pred[0])) "
      ],
      "metadata": {
        "id": "-gjlltWIY1ib"
      },
      "execution_count": null,
      "outputs": []
    },
    {
      "cell_type": "code",
      "source": [
        "# Define the score_predict function\n",
        "def score_predict(team, team_opp, pts, total, home, pts_opp, total_opp, home_opp, won, model):\n",
        "    prediction_array = []\n",
        "    \n",
        "    # Team\n",
        "    if team == 'DET':\n",
        "        prediction_array = prediction_array + [1, 0, 0, 0, 0, 0, 0, 0]\n",
        "    elif team == 'PHI':\n",
        "        prediction_array = prediction_array + [0, 1, 0, 0, 0, 0, 0, 0]\n",
        "    elif team == 'BOS':\n",
        "        prediction_array = prediction_array + [0, 0, 1, 0, 0, 0, 0, 0]\n",
        "    elif team == 'MIL':\n",
        "        prediction_array = prediction_array + [0, 0, 0, 1, 0, 0, 0, 0]\n",
        "    elif team == 'ATL':\n",
        "        prediction_array = prediction_array + [0, 0, 0, 0, 1, 0, 0, 0]\n",
        "    elif team == 'CLE':\n",
        "        prediction_array = prediction_array + [0, 0, 0, 0, 0, 1, 0, 0]\n",
        "    elif team == 'CHI':\n",
        "        prediction_array = prediction_array + [0, 0, 0, 0, 0, 0, 1, 0]\n",
        "    elif team == 'LAL':\n",
        "        prediction_array = prediction_array + [0, 0, 0, 0, 0, 0, 0, 1]\n",
        "    \n",
        "    # Team_opp\n",
        "    if team_opp == 'DET':\n",
        "        prediction_array = prediction_array + [1, 0, 0, 0, 0, 0, 0, 0]\n",
        "    elif team_opp == 'PHI':\n",
        "        prediction_array = prediction_array + [0, 1, 0, 0, 0, 0, 0, 0]\n",
        "    elif team_opp == 'BOS':\n",
        "        prediction_array = prediction_array + [0, 0, 1, 0, 0, 0, 0, 0]\n",
        "    elif team_opp == 'MIL':\n",
        "        prediction_array = prediction_array + [0, 0, 0, 1, 0, 0, 0, 0]\n",
        "    elif team_opp == 'ATL':\n",
        "        prediction_array = prediction_array + [0, 0, 0, 0, 1, 0, 0, 0]\n",
        "    elif team_opp == 'CLE':\n",
        "        prediction_array = prediction_array + [0, 0, 0, 0, 0, 1, 0, 0]\n",
        "    elif team_opp == 'CHI':\n",
        "        prediction_array = prediction_array + [0, 0, 0, 0, 0, 0, 1, 0]\n",
        "    elif team_opp == 'LAL':\n",
        "        prediction_array = prediction_array + [0, 0, 0, 0, 0, 0, 0, 1]\n",
        "    \n",
        "    prediction_array = prediction_array + [pts, total, home, pts_opp, total_opp, home_opp]\n",
        "    prediction_array = np.array([prediction_array])\n",
        "    pred = model.predict(prediction_array)\n",
        "    return int(round(pred[0]))\n"
      ],
      "metadata": {
        "id": "nXtJp_4RN3Mm"
      },
      "execution_count": null,
      "outputs": []
    },
    {
      "cell_type": "markdown",
      "source": [
        "Testcases"
      ],
      "metadata": {
        "id": "bZk1fEMjJhs2"
      }
    },
    {
      "cell_type": "markdown",
      "source": [
        "Testcase 1"
      ],
      "metadata": {
        "id": "ay5iBcyQPSGR"
      }
    },
    {
      "cell_type": "code",
      "source": [
        "team = 'BOS'\n",
        "team_opp = 'CHI'\n",
        "pts = 110\n",
        "total = 210\n",
        "home = 1\n",
        "pts_opp = 100\n",
        "total_opp = 200\n",
        "home_opp = 0\n",
        "won = 30\n",
        "\n",
        "# Call the score_predict function\n",
        "prediction = score_predict(team, team_opp, pts, total, home, pts_opp, total_opp, home_opp, won, model=forest)\n",
        "print(\"Predicted winner:\", team if prediction == 1 else team_opp)\n"
      ],
      "metadata": {
        "colab": {
          "base_uri": "https://localhost:8080/"
        },
        "id": "6uRsDbRl1s-g",
        "outputId": "9fc2543c-97a2-42b9-f65a-35312db92898"
      },
      "execution_count": null,
      "outputs": [
        {
          "output_type": "stream",
          "name": "stdout",
          "text": [
            "Predicted winner: BOS\n"
          ]
        }
      ]
    },
    {
      "cell_type": "markdown",
      "source": [
        "Testcase 2"
      ],
      "metadata": {
        "id": "S6kzv99UPZcS"
      }
    },
    {
      "cell_type": "code",
      "source": [
        "team = 'PHI'\n",
        "team_opp = 'MIL'\n",
        "pts = 115\n",
        "total = 215\n",
        "home = 0\n",
        "pts_opp = 110\n",
        "total_opp = 220\n",
        "home_opp = 1\n",
        "won = 25\n",
        "\n",
        "# Call the score_predict function\n",
        "prediction = score_predict(team, team_opp, pts, total, home, pts_opp, total_opp, home_opp, won, model=forest)\n",
        "print(\"Predicted winner:\", team if prediction == 1 else team_opp)\n"
      ],
      "metadata": {
        "colab": {
          "base_uri": "https://localhost:8080/"
        },
        "id": "KMzqyE1qPa_6",
        "outputId": "affd6918-9dd8-4860-eb40-0e0d093e52fc"
      },
      "execution_count": null,
      "outputs": [
        {
          "output_type": "stream",
          "name": "stdout",
          "text": [
            "Predicted winner: PHI\n"
          ]
        }
      ]
    },
    {
      "cell_type": "markdown",
      "source": [
        "Testcase 3"
      ],
      "metadata": {
        "id": "hLYFM7UzP8Vl"
      }
    },
    {
      "cell_type": "code",
      "source": [
        "team = 'BOS'\n",
        "team_opp = 'PHI'\n",
        "pts = 90\n",
        "total = 180\n",
        "home = 1\n",
        "pts_opp = 85\n",
        "total_opp = 175\n",
        "home_opp = 0\n",
        "won = 45\n",
        "\n",
        "# Call the score_predict function\n",
        "prediction = score_predict(team, team_opp, pts, total, home, pts_opp, total_opp, home_opp, won, model=forest)\n",
        "print(\"Predicted winner:\", team if prediction == 1 else team_opp)\n"
      ],
      "metadata": {
        "colab": {
          "base_uri": "https://localhost:8080/"
        },
        "id": "m03wbmL5P-ER",
        "outputId": "4e2758c6-2577-4b9a-88f0-3201f8a83bfd"
      },
      "execution_count": null,
      "outputs": [
        {
          "output_type": "stream",
          "name": "stdout",
          "text": [
            "Predicted winner: BOS\n"
          ]
        }
      ]
    },
    {
      "cell_type": "markdown",
      "source": [
        "Testcase 4"
      ],
      "metadata": {
        "id": "l2SOBvYFQXbh"
      }
    },
    {
      "cell_type": "code",
      "source": [
        "team = 'CLE'\n",
        "team_opp = 'CHI'\n",
        "pts = 95\n",
        "total = 190\n",
        "home = 1\n",
        "pts_opp = 90\n",
        "total_opp = 180\n",
        "home_opp = 0\n",
        "won = 50\n",
        "\n",
        "# Call the score_predict function\n",
        "prediction = score_predict(team, team_opp, pts, total, home, pts_opp, total_opp, home_opp, won, model=forest)\n",
        "print(\"Predicted winner:\", team if prediction == 1 else team_opp)\n"
      ],
      "metadata": {
        "colab": {
          "base_uri": "https://localhost:8080/"
        },
        "id": "ZjcS65bvQWjx",
        "outputId": "02236719-ff52-43c9-df07-bd32445fbd9c"
      },
      "execution_count": null,
      "outputs": [
        {
          "output_type": "stream",
          "name": "stdout",
          "text": [
            "Predicted winner: CLE\n"
          ]
        }
      ]
    },
    {
      "cell_type": "markdown",
      "source": [
        "Testcase 5"
      ],
      "metadata": {
        "id": "MwNSl8yXQncH"
      }
    },
    {
      "cell_type": "code",
      "source": [
        "team = 'CHI'\n",
        "team_opp = 'ATL'\n",
        "pts = 105\n",
        "total = 210\n",
        "home = 1\n",
        "pts_opp = 100\n",
        "total_opp = 200\n",
        "home_opp = 0\n",
        "won = 10\n",
        "\n",
        "# Call the score_predict function\n",
        "prediction = score_predict(team, team_opp, pts, total, home, pts_opp, total_opp, home_opp, won, model=forest)\n",
        "print(\"Predicted winner:\", team if prediction == 1 else team_opp)\n"
      ],
      "metadata": {
        "colab": {
          "base_uri": "https://localhost:8080/"
        },
        "id": "4BdpdnUhQpm6",
        "outputId": "3d20392e-bb8d-4404-e3ce-95596f483a9c"
      },
      "execution_count": null,
      "outputs": [
        {
          "output_type": "stream",
          "name": "stdout",
          "text": [
            "Predicted winner: CHI\n"
          ]
        }
      ]
    },
    {
      "cell_type": "markdown",
      "source": [
        "Export model\n",
        "\n",
        "Here we load our model in a pkl(pickle) file and give the same code to .py file so that both are connected and we can then perform predictions."
      ],
      "metadata": {
        "id": "p-SZHxSiJoSq"
      }
    },
    {
      "cell_type": "code",
      "source": [
        "import pickle\n",
        "filename = \"ml_model.pkl\"\n",
        "pickle.dump(forest, open(filename, \"wb\"))"
      ],
      "metadata": {
        "id": "Zdry7-2L0jhV"
      },
      "execution_count": null,
      "outputs": []
    }
  ]
}